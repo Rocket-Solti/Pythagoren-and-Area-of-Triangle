{
 "cells": [
  {
   "cell_type": "markdown",
   "metadata": {},
   "source": [
    "This programs helps us to find the Area of right angle triangle..\n"
   ]
  },
  {
   "cell_type": "code",
   "execution_count": 5,
   "metadata": {},
   "outputs": [
    {
     "name": "stdout",
     "output_type": "stream",
     "text": [
      "Welcome to the Simple Right Triangle Solver App \n",
      "n\\Give the length of first side ! a :3\n",
      "Give the length of second side ! b :4\n",
      "\n",
      "For this triangle with sides of 3.0 and 4.0 the hypotenus is 5.0.\n",
      "\n",
      "For this triangle with sides of 3.0 and 4.0 the area is  6.0.\n"
     ]
    }
   ],
   "source": [
    "import math\n",
    "print('Welcome to the Simple Right Triangle Solver App ')\n",
    "side_a =float(input('n\\Give the length of first side ! a :'))\n",
    "side_b=float(input('Give the length of second side ! b :'))\n",
    "side_c=math.sqrt((side_a)**2 + (side_b)**2)\n",
    "side_c=round(side_c,3)\n",
    "area =0.5 * side_a * side_b\n",
    "area =round(area , 3)\n",
    "#summary\n",
    "print('\\nFor this triangle with sides of ' + str(side_a) +  ' and ' + str(side_b) + ' the hypotenus is ' + str(side_c) + '.' )\n",
    "print('\\nFor this triangle with sides of ' + str(side_a) + ' and ' + str(side_b)  + ' the area is  ' + str(area)  +'.')"
   ]
  },
  {
   "cell_type": "code",
   "execution_count": null,
   "metadata": {},
   "outputs": [],
   "source": []
  }
 ],
 "metadata": {
  "kernelspec": {
   "display_name": "Python 3",
   "language": "python",
   "name": "python3"
  },
  "language_info": {
   "codemirror_mode": {
    "name": "ipython",
    "version": 3
   },
   "file_extension": ".py",
   "mimetype": "text/x-python",
   "name": "python",
   "nbconvert_exporter": "python",
   "pygments_lexer": "ipython3",
   "version": "3.7.3"
  }
 },
 "nbformat": 4,
 "nbformat_minor": 2
}
